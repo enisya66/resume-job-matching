{
 "cells": [
  {
   "cell_type": "markdown",
   "metadata": {},
   "source": [
    "## Hello!\n",
    "**This is my little machine.** <br>\n",
    "<font color=pink>Its task is to match CVs/resumes to job/project description according to the degree of suitability.</font> <br>\n",
    "<br>\n",
    "[Author: Michael Christian Suhendra](https://www.youtube.com/watch?v=dQw4w9WgXcQ \"Michael Christian Suhendra\") <br>\n"
   ]
  },
  {
   "cell_type": "code",
   "execution_count": 1,
   "metadata": {},
   "outputs": [
    {
     "name": "stderr",
     "output_type": "stream",
     "text": [
      "Using TensorFlow backend.\n"
     ]
    },
    {
     "name": "stdout",
     "output_type": "stream",
     "text": [
      "MichaelSuhendra 2019-10-18 18:41:53 \n",
      "\n",
      "CPython 3.7.4\n",
      "IPython 7.8.0\n",
      "\n",
      "numpy 1.16.5\n",
      "pandas 0.25.1\n",
      "sklearn 0.0\n",
      "keras 2.3.1\n",
      "\n",
      "compiler   : MSC v.1915 64 bit (AMD64)\n",
      "system     : Windows\n",
      "release    : 10\n",
      "machine    : AMD64\n",
      "processor  : Intel64 Family 6 Model 58 Stepping 9, GenuineIntel\n",
      "CPU cores  : 8\n",
      "interpreter: 64bit\n"
     ]
    }
   ],
   "source": [
    "%reload_ext watermark\n",
    "\n",
    "%watermark -a 'MichaelSuhendra' -d -t -m -v -p numpy,pandas,scikit-learn,keras"
   ]
  },
  {
   "cell_type": "code",
   "execution_count": 2,
   "metadata": {},
   "outputs": [],
   "source": [
    "# prerequisites\n",
    "import nltk\n",
    "try:\n",
    "     nltk.data.find('corpora/stopwords')\n",
    "except LookupError:\n",
    "     nltk.download()"
   ]
  },
  {
   "cell_type": "markdown",
   "metadata": {},
   "source": [
    "[Link to download GloVe pre-trained word vectors](http://nlp.stanford.edu/data/glove.6B.zip \"Link to download GloVe pre-trained word vectors\")"
   ]
  },
  {
   "cell_type": "code",
   "execution_count": 3,
   "metadata": {},
   "outputs": [
    {
     "name": "stdout",
     "output_type": "stream",
     "text": [
      "\n",
      "Welcome to IPython!\n"
     ]
    },
    {
     "data": {
      "text/html": [
       "        <script type=\"text/javascript\">\n",
       "        window.PlotlyConfig = {MathJaxConfig: 'local'};\n",
       "        if (window.MathJax) {MathJax.Hub.Config({SVG: {font: \"STIX-Web\"}});}\n",
       "        if (typeof require !== 'undefined') {\n",
       "        require.undef(\"plotly\");\n",
       "        requirejs.config({\n",
       "            paths: {\n",
       "                'plotly': ['https://cdn.plot.ly/plotly-latest.min']\n",
       "            }\n",
       "        });\n",
       "        require(['plotly'], function(Plotly) {\n",
       "            window._Plotly = Plotly;\n",
       "        });\n",
       "        }\n",
       "        </script>\n",
       "        "
      ]
     },
     "metadata": {},
     "output_type": "display_data"
    },
    {
     "data": {
      "text/html": [
       "        <script type=\"text/javascript\">\n",
       "        window.PlotlyConfig = {MathJaxConfig: 'local'};\n",
       "        if (window.MathJax) {MathJax.Hub.Config({SVG: {font: \"STIX-Web\"}});}\n",
       "        if (typeof require !== 'undefined') {\n",
       "        require.undef(\"plotly\");\n",
       "        requirejs.config({\n",
       "            paths: {\n",
       "                'plotly': ['https://cdn.plot.ly/plotly-latest.min']\n",
       "            }\n",
       "        });\n",
       "        require(['plotly'], function(Plotly) {\n",
       "            window._Plotly = Plotly;\n",
       "        });\n",
       "        }\n",
       "        </script>\n",
       "        "
      ]
     },
     "metadata": {},
     "output_type": "display_data"
    },
    {
     "name": "stdout",
     "output_type": "stream",
     "text": [
      "Your favorite libraries have been loaded.\n"
     ]
    }
   ],
   "source": [
    "import pandas as pd\n",
    "import numpy as np\n",
    "\n",
    "# Pandas options\n",
    "pd.options.display.max_columns = 30\n",
    "pd.options.display.max_rows = 20\n",
    "\n",
    "from IPython import get_ipython\n",
    "ipython = get_ipython()\n",
    "\n",
    "# If in ipython, load autoreload extension\n",
    "if 'ipython' in globals():\n",
    "    print('\\nWelcome to IPython!')\n",
    "    ipython.magic('load_ext autoreload')\n",
    "    ipython.magic('autoreload 2')\n",
    "\n",
    "# Display all cell outputs in notebook\n",
    "from IPython.core.interactiveshell import InteractiveShell\n",
    "InteractiveShell.ast_node_interactivity = 'all'\n",
    "\n",
    "# Visualization\n",
    "import plotly.plotly as py\n",
    "import plotly.graph_objs as go\n",
    "from plotly.offline import iplot, init_notebook_mode\n",
    "init_notebook_mode(connected=True)\n",
    "import cufflinks as cf\n",
    "cf.go_offline(connected=True)\n",
    "cf.set_config_file(theme='pearl')\n",
    "\n",
    "print('Your favorite libraries have been loaded.')"
   ]
  },
  {
   "cell_type": "markdown",
   "metadata": {},
   "source": [
    "***\n",
    "### ◐ Data collection <br>\n",
    "\n",
    "The data generator reads a .csv file as mapping, containing the file name \n",
    "of the CV, the file name of the job post, and the corresponding label, \n",
    "and populates an array for both CV/job post pair and label respectively.\n",
    "\n",
    "Returns a numpy array with CV/job post pair (x) \n",
    "and a numpy array with labels (y)."
   ]
  },
  {
   "cell_type": "code",
   "execution_count": 4,
   "metadata": {},
   "outputs": [
    {
     "name": "stdout",
     "output_type": "stream",
     "text": [
      "[['Senior Java/JEE Developer, Software Architect gulp_id_picture Kontaktieren Auf die Merkliste verfügbar ab 02.12.2019 verfügbar zu 100 % davon vor Ort 60 % PLZ-Gebiet, Land D2D3D4D5 Städte Hannover 200 km Kontaktwunsch Ich möchte bevorzugt für Projekte in diesen Einsatzorten kontaktiert werden.  Projekte 04/2019 - 11/2019  8 Monate  Integration PLM-Lösungen mit Spring Cloud DataFlow  01/2018 - 03/2019  1 Jahr 3 Monate  Migration des Buchungsclients von Swing auf Single-Page-Webapplication  07/2017 - 12/2018  1 Jahr 6 Monate  Implementierung Risikosteuerung  11/2016 - 06/2017  8 Monate  Umstellung Reise-Buchungsclient von Swing auf Angular / SpringBoot  05/2014 - 10/2016  2 Jahre 6 Monate  Implementierung Verhandlungs- und Konditionsmanagement  09/2012 - 04/2014  1 Jahr 8 Monate  Implementierung einer Integration zum Abgleich von Stücklisten  01/2011 - 08/2012  1 Jahr 8 Monate  Implementierung E-Mail Kampagnen-Plattform zur Online-Leadgewinnung  Branchen Touristik Airline Handel Automotive Online-Marketing Kompetenzen Programmiersprachen Angular Java Hervorragend Java und Java EE Java 10 Java 11 Java 6 Java 8 Java 9 JavaEE JavaScript JAX-WS JMS JPA JSF PL/SQL Shell Xtend Betriebssysteme Linux Windows Datenbanken JDBC MySQL Oracle Postgres SQL Sprachkenntnisse Deutsch Muttersprache Englisch fließend Datenkommunikation EDIFACT Internet, Intranet Message Queuing RPC VDA Produkte / Standards / Erfahrungen 3DExperience ActiveMQ Architekt Checkstyle Coaching Docker Eclipse Elastic Search Git Graylog Hibernate Jasper Report Jenkins JIRA Junit 4 Kubernetes Maven OData for SAP PlantUML PMD PostegreSQL Quarz SAP Scrum Selenium SOAP SonarQube Spring Spring 4 Spring 5 Spring Batch Spring Boot Spring Boot 2 Spring Cloud Config Spring Cloud DataFlow Spring Cloud Stream Spring Cloud Task Spring Data Spring Data Sleuth Spring Integration Spring Tools Suite SVN TeamFoundationServer Tomcat UML Vaadin VDA 4912 VDA 4913 Websphere Java Java EE, JSF, EJB, JPA, JMS, JAX-WS, SOAP, REST, CDI, Hibernate, Spring, Spring Boot, JSP, Servlets JUnit, EasyMock, Mockito, Selenium slf4j, log4j commons-lang, commons-io, commons-configuration Freemarker, FlyingSaucer, POI, maven (plugins)   Build Maven, Jenkins, Hudson, SonarQube, Nexus, Artifactory, Checkstyle, PMD, Cobertura SVN, CVS, Mercurial, git   IDE Eclipse, IntelliJ, Nebeans   Application Server Tomcat, Websphere, Weblogic, JBoss   Sonstiges Liferay Docbook UML XML / XSLT / XPath JIRA Schwerpunkte agiles Projektmanagement Java Architektur Java Entwicklung Aufgabenbereiche Scrum Master Ausbildungshistorie Berufstätigkeit 09/2012– 04/2012 edicos consulting & software GmbH & Co. KG, Hannover Lead Developer / IT Projektleiter 01/2011 – 08/2012 Deutsche Messe Interactive GmbH, Hannover Senior Developer / Software Architect; Scrum Master 04/2008 – 12/2010 quintessence consulting GmbH, Hannover Senior Software Architect 10/2007 – 04/2008 Impress Software GmbH, Hannover Senior J2EE Developer 10/2001 – 10/2007 quintessence consulting GmbH, Hannover 02/2006 – 10/2007 Director Engineering 02/2004 – 01/2006 Frameworkentwickler, Teamleiter 10/2001 – 01/2004 Anwendungsentwickler 09/2000 – 09/2001 Logica pdv GmbH, Hamburg / Hannover Teilprojektleiter, Schulungsreferent (europaweit), Java-Programmierer 04/2000 – 08/2000 connect! computer GmbH, Hamburg VBA Programmierer 09/1999 – 01-2000 Ludwig Windhorst Schule, Hannover Realschullehrer   Studium / Ausbildung 10/1997 – 03/1999 Ausbildungsseminar Hannover I, Dietrich-Bonhoeffer-Realschule Vorbereitungsdienst für das Lehramt an Realschulen 10.03.1999: Lehrer für das Lehramt an Realschulen, Gesamtnote „gut“ 10/1992 - 06/1997 Universität Hannover, Studium Lehramt an Realschulen 11.06.1997: Erste Staatsprüfung für das Lehramt an Realschulen, Gesamtnote „gut“'\n",
      "  'PROJEKTBESCHREIBUNG Projekt-Titel Java Entwickler Projekt-Rolle Java Entwickler Beginn 15.10.2019 Dauer 1 Jahr mit Option auf Verlängerung Auslastung 100 Einsatzort Hannover Stundensatz 65 EUR (vom Auftraggeber angepeilter Stundensatz) Projekt-Beschreibung Wir suchen für unseren Kunden im Bankenumfeld einen erfahrenen Java Entwickler im Oracle Umfeld.  Start: ab sofort Dauer: 1 Jahr (Option für Verlängerung) Fülltime vor Ort Stundensatz: 65 Euro  Wir freuen uns über Ihre Bewerbung. Must-Have Skills Java Java Entwicklung Oracle Oracle Datenbank Nice-to-Have Skills ']\n",
      " ['Senior Java/JEE Developer, Software Architect gulp_id_picture Kontaktieren Auf die Merkliste verfügbar ab 02.12.2019 verfügbar zu 100 % davon vor Ort 60 % PLZ-Gebiet, Land D2D3D4D5 Städte Hannover 200 km Kontaktwunsch Ich möchte bevorzugt für Projekte in diesen Einsatzorten kontaktiert werden.  Projekte 04/2019 - 11/2019  8 Monate  Integration PLM-Lösungen mit Spring Cloud DataFlow  01/2018 - 03/2019  1 Jahr 3 Monate  Migration des Buchungsclients von Swing auf Single-Page-Webapplication  07/2017 - 12/2018  1 Jahr 6 Monate  Implementierung Risikosteuerung  11/2016 - 06/2017  8 Monate  Umstellung Reise-Buchungsclient von Swing auf Angular / SpringBoot  05/2014 - 10/2016  2 Jahre 6 Monate  Implementierung Verhandlungs- und Konditionsmanagement  09/2012 - 04/2014  1 Jahr 8 Monate  Implementierung einer Integration zum Abgleich von Stücklisten  01/2011 - 08/2012  1 Jahr 8 Monate  Implementierung E-Mail Kampagnen-Plattform zur Online-Leadgewinnung  Branchen Touristik Airline Handel Automotive Online-Marketing Kompetenzen Programmiersprachen Angular Java Hervorragend Java und Java EE Java 10 Java 11 Java 6 Java 8 Java 9 JavaEE JavaScript JAX-WS JMS JPA JSF PL/SQL Shell Xtend Betriebssysteme Linux Windows Datenbanken JDBC MySQL Oracle Postgres SQL Sprachkenntnisse Deutsch Muttersprache Englisch fließend Datenkommunikation EDIFACT Internet, Intranet Message Queuing RPC VDA Produkte / Standards / Erfahrungen 3DExperience ActiveMQ Architekt Checkstyle Coaching Docker Eclipse Elastic Search Git Graylog Hibernate Jasper Report Jenkins JIRA Junit 4 Kubernetes Maven OData for SAP PlantUML PMD PostegreSQL Quarz SAP Scrum Selenium SOAP SonarQube Spring Spring 4 Spring 5 Spring Batch Spring Boot Spring Boot 2 Spring Cloud Config Spring Cloud DataFlow Spring Cloud Stream Spring Cloud Task Spring Data Spring Data Sleuth Spring Integration Spring Tools Suite SVN TeamFoundationServer Tomcat UML Vaadin VDA 4912 VDA 4913 Websphere Java Java EE, JSF, EJB, JPA, JMS, JAX-WS, SOAP, REST, CDI, Hibernate, Spring, Spring Boot, JSP, Servlets JUnit, EasyMock, Mockito, Selenium slf4j, log4j commons-lang, commons-io, commons-configuration Freemarker, FlyingSaucer, POI, maven (plugins)   Build Maven, Jenkins, Hudson, SonarQube, Nexus, Artifactory, Checkstyle, PMD, Cobertura SVN, CVS, Mercurial, git   IDE Eclipse, IntelliJ, Nebeans   Application Server Tomcat, Websphere, Weblogic, JBoss   Sonstiges Liferay Docbook UML XML / XSLT / XPath JIRA Schwerpunkte agiles Projektmanagement Java Architektur Java Entwicklung Aufgabenbereiche Scrum Master Ausbildungshistorie Berufstätigkeit 09/2012– 04/2012 edicos consulting & software GmbH & Co. KG, Hannover Lead Developer / IT Projektleiter 01/2011 – 08/2012 Deutsche Messe Interactive GmbH, Hannover Senior Developer / Software Architect; Scrum Master 04/2008 – 12/2010 quintessence consulting GmbH, Hannover Senior Software Architect 10/2007 – 04/2008 Impress Software GmbH, Hannover Senior J2EE Developer 10/2001 – 10/2007 quintessence consulting GmbH, Hannover 02/2006 – 10/2007 Director Engineering 02/2004 – 01/2006 Frameworkentwickler, Teamleiter 10/2001 – 01/2004 Anwendungsentwickler 09/2000 – 09/2001 Logica pdv GmbH, Hamburg / Hannover Teilprojektleiter, Schulungsreferent (europaweit), Java-Programmierer 04/2000 – 08/2000 connect! computer GmbH, Hamburg VBA Programmierer 09/1999 – 01-2000 Ludwig Windhorst Schule, Hannover Realschullehrer   Studium / Ausbildung 10/1997 – 03/1999 Ausbildungsseminar Hannover I, Dietrich-Bonhoeffer-Realschule Vorbereitungsdienst für das Lehramt an Realschulen 10.03.1999: Lehrer für das Lehramt an Realschulen, Gesamtnote „gut“ 10/1992 - 06/1997 Universität Hannover, Studium Lehramt an Realschulen 11.06.1997: Erste Staatsprüfung für das Lehramt an Realschulen, Gesamtnote „gut“'\n",
      "  'PROJEKTBESCHREIBUNG Titel München: Java / Angular Entwicklung POS49480 JavaEE JEE JavaScript Projektanbieter Chiffre-Kunde Beginn 14.10.2019 Einsatzort München Beschreibung München: Java / Angular Entwicklung POS49480 JavaEE JEE JavaScript Einsatzort: München Java/Angular Development Leistungszeitraum: Starttermin: 14.10.2019 Einsatzende: 31.12.2019+ Ort: München Gesamtstunden: 800 Leistungsbeschreibung: Es handelt sich um eine Web Anwendung, die vom Service Berater* verwendet wird, um den Fortschritt des Vorgangs zu verfolgen. Sie verfügt über ein Java EE Backend ein AngularJS Frontend. Aufgaben: • Frontend (AngularJS) und Backend (Java EE) Entwicklung. • Erstellung [...] Textauszug. Die vollständige Projektbeschreibung finden Sie beim Projektanbieter.']\n",
      " ['Senior Java/JEE Developer, Software Architect gulp_id_picture Kontaktieren Auf die Merkliste verfügbar ab 02.12.2019 verfügbar zu 100 % davon vor Ort 60 % PLZ-Gebiet, Land D2D3D4D5 Städte Hannover 200 km Kontaktwunsch Ich möchte bevorzugt für Projekte in diesen Einsatzorten kontaktiert werden.  Projekte 04/2019 - 11/2019  8 Monate  Integration PLM-Lösungen mit Spring Cloud DataFlow  01/2018 - 03/2019  1 Jahr 3 Monate  Migration des Buchungsclients von Swing auf Single-Page-Webapplication  07/2017 - 12/2018  1 Jahr 6 Monate  Implementierung Risikosteuerung  11/2016 - 06/2017  8 Monate  Umstellung Reise-Buchungsclient von Swing auf Angular / SpringBoot  05/2014 - 10/2016  2 Jahre 6 Monate  Implementierung Verhandlungs- und Konditionsmanagement  09/2012 - 04/2014  1 Jahr 8 Monate  Implementierung einer Integration zum Abgleich von Stücklisten  01/2011 - 08/2012  1 Jahr 8 Monate  Implementierung E-Mail Kampagnen-Plattform zur Online-Leadgewinnung  Branchen Touristik Airline Handel Automotive Online-Marketing Kompetenzen Programmiersprachen Angular Java Hervorragend Java und Java EE Java 10 Java 11 Java 6 Java 8 Java 9 JavaEE JavaScript JAX-WS JMS JPA JSF PL/SQL Shell Xtend Betriebssysteme Linux Windows Datenbanken JDBC MySQL Oracle Postgres SQL Sprachkenntnisse Deutsch Muttersprache Englisch fließend Datenkommunikation EDIFACT Internet, Intranet Message Queuing RPC VDA Produkte / Standards / Erfahrungen 3DExperience ActiveMQ Architekt Checkstyle Coaching Docker Eclipse Elastic Search Git Graylog Hibernate Jasper Report Jenkins JIRA Junit 4 Kubernetes Maven OData for SAP PlantUML PMD PostegreSQL Quarz SAP Scrum Selenium SOAP SonarQube Spring Spring 4 Spring 5 Spring Batch Spring Boot Spring Boot 2 Spring Cloud Config Spring Cloud DataFlow Spring Cloud Stream Spring Cloud Task Spring Data Spring Data Sleuth Spring Integration Spring Tools Suite SVN TeamFoundationServer Tomcat UML Vaadin VDA 4912 VDA 4913 Websphere Java Java EE, JSF, EJB, JPA, JMS, JAX-WS, SOAP, REST, CDI, Hibernate, Spring, Spring Boot, JSP, Servlets JUnit, EasyMock, Mockito, Selenium slf4j, log4j commons-lang, commons-io, commons-configuration Freemarker, FlyingSaucer, POI, maven (plugins)   Build Maven, Jenkins, Hudson, SonarQube, Nexus, Artifactory, Checkstyle, PMD, Cobertura SVN, CVS, Mercurial, git   IDE Eclipse, IntelliJ, Nebeans   Application Server Tomcat, Websphere, Weblogic, JBoss   Sonstiges Liferay Docbook UML XML / XSLT / XPath JIRA Schwerpunkte agiles Projektmanagement Java Architektur Java Entwicklung Aufgabenbereiche Scrum Master Ausbildungshistorie Berufstätigkeit 09/2012– 04/2012 edicos consulting & software GmbH & Co. KG, Hannover Lead Developer / IT Projektleiter 01/2011 – 08/2012 Deutsche Messe Interactive GmbH, Hannover Senior Developer / Software Architect; Scrum Master 04/2008 – 12/2010 quintessence consulting GmbH, Hannover Senior Software Architect 10/2007 – 04/2008 Impress Software GmbH, Hannover Senior J2EE Developer 10/2001 – 10/2007 quintessence consulting GmbH, Hannover 02/2006 – 10/2007 Director Engineering 02/2004 – 01/2006 Frameworkentwickler, Teamleiter 10/2001 – 01/2004 Anwendungsentwickler 09/2000 – 09/2001 Logica pdv GmbH, Hamburg / Hannover Teilprojektleiter, Schulungsreferent (europaweit), Java-Programmierer 04/2000 – 08/2000 connect! computer GmbH, Hamburg VBA Programmierer 09/1999 – 01-2000 Ludwig Windhorst Schule, Hannover Realschullehrer   Studium / Ausbildung 10/1997 – 03/1999 Ausbildungsseminar Hannover I, Dietrich-Bonhoeffer-Realschule Vorbereitungsdienst für das Lehramt an Realschulen 10.03.1999: Lehrer für das Lehramt an Realschulen, Gesamtnote „gut“ 10/1992 - 06/1997 Universität Hannover, Studium Lehramt an Realschulen 11.06.1997: Erste Staatsprüfung für das Lehramt an Realschulen, Gesamtnote „gut“'\n",
      "  'Titel Java / Frontend Developer (m/w/d) *hoher Remote-Anteil* Beginn 21.10.2019 Dauer 31.03.2020 Einsatzort Kiel Beschreibung Für unseren Kunden, ein Dienstleister im Bereich der Finanzinformation, suchen wir ab sofort 4 Java / Frontend Developer (m/w/d).     Beim Kunden arbeiten zwei Projektteams an unterschiedlichen Kundenaufträgen. Diese beiden Teams sollen mit jeweils 2 zusätzlichen Ressourcen unterstützt werden, um die Projektabwicklung zu beschleunigen.     Der Einsatz kann nach einer Einarbeitung auch überwiegend \"remote\" erfolgen. Teilzeitauslastungen sind möglich, Vollzeit wird bevorzugt.        Skills Java Spring Boot  Hibernate  Kubernetes  Docker  Microservices  Angular  MySQL  ElasticSearch  REST-API (Design)']\n",
      " ['Senior Java/JEE Developer, Software Architect gulp_id_picture Kontaktieren Auf die Merkliste verfügbar ab 02.12.2019 verfügbar zu 100 % davon vor Ort 60 % PLZ-Gebiet, Land D2D3D4D5 Städte Hannover 200 km Kontaktwunsch Ich möchte bevorzugt für Projekte in diesen Einsatzorten kontaktiert werden.  Projekte 04/2019 - 11/2019  8 Monate  Integration PLM-Lösungen mit Spring Cloud DataFlow  01/2018 - 03/2019  1 Jahr 3 Monate  Migration des Buchungsclients von Swing auf Single-Page-Webapplication  07/2017 - 12/2018  1 Jahr 6 Monate  Implementierung Risikosteuerung  11/2016 - 06/2017  8 Monate  Umstellung Reise-Buchungsclient von Swing auf Angular / SpringBoot  05/2014 - 10/2016  2 Jahre 6 Monate  Implementierung Verhandlungs- und Konditionsmanagement  09/2012 - 04/2014  1 Jahr 8 Monate  Implementierung einer Integration zum Abgleich von Stücklisten  01/2011 - 08/2012  1 Jahr 8 Monate  Implementierung E-Mail Kampagnen-Plattform zur Online-Leadgewinnung  Branchen Touristik Airline Handel Automotive Online-Marketing Kompetenzen Programmiersprachen Angular Java Hervorragend Java und Java EE Java 10 Java 11 Java 6 Java 8 Java 9 JavaEE JavaScript JAX-WS JMS JPA JSF PL/SQL Shell Xtend Betriebssysteme Linux Windows Datenbanken JDBC MySQL Oracle Postgres SQL Sprachkenntnisse Deutsch Muttersprache Englisch fließend Datenkommunikation EDIFACT Internet, Intranet Message Queuing RPC VDA Produkte / Standards / Erfahrungen 3DExperience ActiveMQ Architekt Checkstyle Coaching Docker Eclipse Elastic Search Git Graylog Hibernate Jasper Report Jenkins JIRA Junit 4 Kubernetes Maven OData for SAP PlantUML PMD PostegreSQL Quarz SAP Scrum Selenium SOAP SonarQube Spring Spring 4 Spring 5 Spring Batch Spring Boot Spring Boot 2 Spring Cloud Config Spring Cloud DataFlow Spring Cloud Stream Spring Cloud Task Spring Data Spring Data Sleuth Spring Integration Spring Tools Suite SVN TeamFoundationServer Tomcat UML Vaadin VDA 4912 VDA 4913 Websphere Java Java EE, JSF, EJB, JPA, JMS, JAX-WS, SOAP, REST, CDI, Hibernate, Spring, Spring Boot, JSP, Servlets JUnit, EasyMock, Mockito, Selenium slf4j, log4j commons-lang, commons-io, commons-configuration Freemarker, FlyingSaucer, POI, maven (plugins)   Build Maven, Jenkins, Hudson, SonarQube, Nexus, Artifactory, Checkstyle, PMD, Cobertura SVN, CVS, Mercurial, git   IDE Eclipse, IntelliJ, Nebeans   Application Server Tomcat, Websphere, Weblogic, JBoss   Sonstiges Liferay Docbook UML XML / XSLT / XPath JIRA Schwerpunkte agiles Projektmanagement Java Architektur Java Entwicklung Aufgabenbereiche Scrum Master Ausbildungshistorie Berufstätigkeit 09/2012– 04/2012 edicos consulting & software GmbH & Co. KG, Hannover Lead Developer / IT Projektleiter 01/2011 – 08/2012 Deutsche Messe Interactive GmbH, Hannover Senior Developer / Software Architect; Scrum Master 04/2008 – 12/2010 quintessence consulting GmbH, Hannover Senior Software Architect 10/2007 – 04/2008 Impress Software GmbH, Hannover Senior J2EE Developer 10/2001 – 10/2007 quintessence consulting GmbH, Hannover 02/2006 – 10/2007 Director Engineering 02/2004 – 01/2006 Frameworkentwickler, Teamleiter 10/2001 – 01/2004 Anwendungsentwickler 09/2000 – 09/2001 Logica pdv GmbH, Hamburg / Hannover Teilprojektleiter, Schulungsreferent (europaweit), Java-Programmierer 04/2000 – 08/2000 connect! computer GmbH, Hamburg VBA Programmierer 09/1999 – 01-2000 Ludwig Windhorst Schule, Hannover Realschullehrer   Studium / Ausbildung 10/1997 – 03/1999 Ausbildungsseminar Hannover I, Dietrich-Bonhoeffer-Realschule Vorbereitungsdienst für das Lehramt an Realschulen 10.03.1999: Lehrer für das Lehramt an Realschulen, Gesamtnote „gut“ 10/1992 - 06/1997 Universität Hannover, Studium Lehramt an Realschulen 11.06.1997: Erste Staatsprüfung für das Lehramt an Realschulen, Gesamtnote „gut“'\n",
      "  'Titel Applikationsentwicklung mit Python und Java Beginn 04.11.2019 Dauer 3 Monate Einsatzort Stuttgart Beschreibung Wir suchen für unseren Kunden im Raum Stuttgart einen erfahrenen Python-/Java-Entwickler (m/w/d), der ihn bei der Entwicklung einer Applikation im Bereich Simulationsdatenmanagement unterstützt.     Projekthintergrund:  Die suchende Abteilung kümmert sich um die gesamte IT Toolkette für den Produktentwicklungsbereich. Aktuell wird im Bereich PLM/SDM noch eine kommerzielle Lösung eingesetzt, die aber abgelöst werden soll. Für die Übergangszeit möchten sie nun ein Toolkit verwenden, welches außerhalb der bisher genutzten SDM-Lösung SDM = Simulationsdatenmanagement) arbeitet.     Geplante Features der Anwendung:  Benutzeroberfläche für Windows (evtl. zusätzlich für Linux), von der aus eine standardisierte Ordnerstruktur für neue Simulations Eine Kopplung per XML Schnittstelle an die Simulations-Auftragsverwaltung (hier ist bereits eine Schnittstelle vorhanden), soll es ermöglichen, Attribute aus dem Simulationsauftrag für die Benennung einzelner Ordner in der Struktur zu verwenden Weitergabe von Attributen an Scripte über einen zentralen Sammler Implementierung von standort-basierten Abläufen für drei Simulationsstandorte (Scripte und Routinen sollen auf lokaler Infrastruktur bzw. Pfadstrukturen für Server und High Performance Computing Systeme ausgeführt werden) Der Einsatz erfolgt in einem agilen Projekt- bzw. Programmierumfeld.  Der Kunde wünscht sich eine Auslastung von 4-5 Tagen/Woche. Eine Remoteoption besteht ggf. - muss aber noch abschließend geklärt werden.   Skills praktische Erfahrung in der Applikationsentwicklung mit Javapraktische Erfahrung in der Applikationsentwicklung mit Pythonoptional: Kenntnisse weitere Skriptsprachen, wie bash/shell etc.']\n",
      " ['Senior Java/JEE Developer, Software Architect gulp_id_picture Kontaktieren Auf die Merkliste verfügbar ab 02.12.2019 verfügbar zu 100 % davon vor Ort 60 % PLZ-Gebiet, Land D2D3D4D5 Städte Hannover 200 km Kontaktwunsch Ich möchte bevorzugt für Projekte in diesen Einsatzorten kontaktiert werden.  Projekte 04/2019 - 11/2019  8 Monate  Integration PLM-Lösungen mit Spring Cloud DataFlow  01/2018 - 03/2019  1 Jahr 3 Monate  Migration des Buchungsclients von Swing auf Single-Page-Webapplication  07/2017 - 12/2018  1 Jahr 6 Monate  Implementierung Risikosteuerung  11/2016 - 06/2017  8 Monate  Umstellung Reise-Buchungsclient von Swing auf Angular / SpringBoot  05/2014 - 10/2016  2 Jahre 6 Monate  Implementierung Verhandlungs- und Konditionsmanagement  09/2012 - 04/2014  1 Jahr 8 Monate  Implementierung einer Integration zum Abgleich von Stücklisten  01/2011 - 08/2012  1 Jahr 8 Monate  Implementierung E-Mail Kampagnen-Plattform zur Online-Leadgewinnung  Branchen Touristik Airline Handel Automotive Online-Marketing Kompetenzen Programmiersprachen Angular Java Hervorragend Java und Java EE Java 10 Java 11 Java 6 Java 8 Java 9 JavaEE JavaScript JAX-WS JMS JPA JSF PL/SQL Shell Xtend Betriebssysteme Linux Windows Datenbanken JDBC MySQL Oracle Postgres SQL Sprachkenntnisse Deutsch Muttersprache Englisch fließend Datenkommunikation EDIFACT Internet, Intranet Message Queuing RPC VDA Produkte / Standards / Erfahrungen 3DExperience ActiveMQ Architekt Checkstyle Coaching Docker Eclipse Elastic Search Git Graylog Hibernate Jasper Report Jenkins JIRA Junit 4 Kubernetes Maven OData for SAP PlantUML PMD PostegreSQL Quarz SAP Scrum Selenium SOAP SonarQube Spring Spring 4 Spring 5 Spring Batch Spring Boot Spring Boot 2 Spring Cloud Config Spring Cloud DataFlow Spring Cloud Stream Spring Cloud Task Spring Data Spring Data Sleuth Spring Integration Spring Tools Suite SVN TeamFoundationServer Tomcat UML Vaadin VDA 4912 VDA 4913 Websphere Java Java EE, JSF, EJB, JPA, JMS, JAX-WS, SOAP, REST, CDI, Hibernate, Spring, Spring Boot, JSP, Servlets JUnit, EasyMock, Mockito, Selenium slf4j, log4j commons-lang, commons-io, commons-configuration Freemarker, FlyingSaucer, POI, maven (plugins)   Build Maven, Jenkins, Hudson, SonarQube, Nexus, Artifactory, Checkstyle, PMD, Cobertura SVN, CVS, Mercurial, git   IDE Eclipse, IntelliJ, Nebeans   Application Server Tomcat, Websphere, Weblogic, JBoss   Sonstiges Liferay Docbook UML XML / XSLT / XPath JIRA Schwerpunkte agiles Projektmanagement Java Architektur Java Entwicklung Aufgabenbereiche Scrum Master Ausbildungshistorie Berufstätigkeit 09/2012– 04/2012 edicos consulting & software GmbH & Co. KG, Hannover Lead Developer / IT Projektleiter 01/2011 – 08/2012 Deutsche Messe Interactive GmbH, Hannover Senior Developer / Software Architect; Scrum Master 04/2008 – 12/2010 quintessence consulting GmbH, Hannover Senior Software Architect 10/2007 – 04/2008 Impress Software GmbH, Hannover Senior J2EE Developer 10/2001 – 10/2007 quintessence consulting GmbH, Hannover 02/2006 – 10/2007 Director Engineering 02/2004 – 01/2006 Frameworkentwickler, Teamleiter 10/2001 – 01/2004 Anwendungsentwickler 09/2000 – 09/2001 Logica pdv GmbH, Hamburg / Hannover Teilprojektleiter, Schulungsreferent (europaweit), Java-Programmierer 04/2000 – 08/2000 connect! computer GmbH, Hamburg VBA Programmierer 09/1999 – 01-2000 Ludwig Windhorst Schule, Hannover Realschullehrer   Studium / Ausbildung 10/1997 – 03/1999 Ausbildungsseminar Hannover I, Dietrich-Bonhoeffer-Realschule Vorbereitungsdienst für das Lehramt an Realschulen 10.03.1999: Lehrer für das Lehramt an Realschulen, Gesamtnote „gut“ 10/1992 - 06/1997 Universität Hannover, Studium Lehramt an Realschulen 11.06.1997: Erste Staatsprüfung für das Lehramt an Realschulen, Gesamtnote „gut“'\n",
      "  'Titel Full-Stack-Entwickler (m/w/d) Schwerpunkt Middleware Beginn 01.11.2019 Dauer 31.01.2020 Einsatzort Freiburg im Breisgau Beschreibung Für unseren Industriekunden suchen wir einen Fullstack-Entwickler (m/w/d), der seinen Schwerpunkt im Bereich Middleware (oder Backend) sieht. Hierbei handelt es sich um die Umsetzung und Weiterentwicklung einer Microservices Architektur im Bereich Sensorik.  Skills Spring Boot Java/JEE Docker Jenkins (optional) Deployment Themen (Git)']]\n",
      "[2 4 4 5 4]\n",
      "Average CV length:  4649.3\n",
      "Average job post length:  1222.7\n"
     ]
    }
   ],
   "source": [
    "import numpy as np\n",
    "import os\n",
    "import csv\n",
    "\n",
    "# reads a .txt file and returns the text body\n",
    "def read_file(folder, file):\n",
    "    data = ''\n",
    "    if os.path.isfile(os.path.join(folder, file + '.txt')):\n",
    "        filename = os.path.join(folder, file)\n",
    "        with open(filename + '.txt', 'r', encoding='utf8') as file:\n",
    "            data = file.read().replace('\\n', ' ')\n",
    "    return data\n",
    "    \n",
    "# create array with .csv file for mapping as input\n",
    "# TODO something on imbalanced classes\n",
    "# this transforms the entire input data into an array\n",
    "# should this be stored somewhere?\n",
    "def generate_data(filename):\n",
    "    pairs = []\n",
    "    labels = []\n",
    "    \n",
    "    with open(filename, 'rt') as csvDataFile:\n",
    "        csvReader = csv.reader(csvDataFile)\n",
    "        next(csvReader)\n",
    "        for row in csvReader:\n",
    "            cv_text = read_file('cv/', row[0])\n",
    "            jobpost_text = read_file('jobpost/', row[1])\n",
    "            \n",
    "            pairs += [[cv_text, jobpost_text]]\n",
    "            labels.append(int(row[2]))\n",
    "    \n",
    "    return np.array(pairs), np.transpose(labels)\n",
    "\n",
    "# returns the average word length in an array of texts\n",
    "def get_average_text_length(texts):   \n",
    "    return round(sum(len(i) for i in texts) / len(texts),1)\n",
    "\n",
    "pairs, labels = generate_data('data.csv')\n",
    "\n",
    "# print the first 5 pairs/labels\n",
    "print(pairs[:5])\n",
    "print(labels[:5])\n",
    "\n",
    "# print the average length of documents\n",
    "print('Average CV length: ', get_average_text_length(pairs[:,0]))\n",
    "print('Average job post length: ', get_average_text_length(pairs[:,1]))"
   ]
  },
  {
   "cell_type": "markdown",
   "metadata": {},
   "source": [
    "### ◑ Text preprocessing <br> \n",
    "This module gets raw text as input,\n",
    "'cleans' the text\n",
    "and returns the vector representation of words in the text."
   ]
  },
  {
   "cell_type": "code",
   "execution_count": 5,
   "metadata": {},
   "outputs": [
    {
     "name": "stdout",
     "output_type": "stream",
     "text": [
      "[['senior javaje develop softwar architect gulpidpictur kontakti merklist verfugbar ab 02122019 verfugbar 100 davon ort 60 plzgebiet land d2d3d4d5 stadt hannov 200 km kontaktwunsch mocht bevorzugt projekt einsatzort kontaktiert projekt 042019 112019 8 monat integration plmlosung spring cloud dataflow 012018 032019 1 jahr 3 monat migration buchungsclient swing singlepagewebapplication 072017 122018 1 jahr 6 monat implementier risikosteuer 112016 062017 8 monat umstell reisebuchungsclient swing angular springboot 052014 102016 2 jahr 6 monat implementier verhandl konditionsmanagement 092012 042014 1 jahr 8 monat implementier integration abgleich stucklist 012011 082012 1 jahr 8 monat implementier email kampagnenplattform onlineleadgewinn branch tourist airlin handel automotiv onlinemarketing kompetenz programmiersprach angular java hervorrag java java ee java 10 java 11 java 6 java 8 java 9 javae javascript jaxws jms jpa jsf plsql shell xtend betriebssystem linux windows datenbank jdbc mysql oracl postgr sql sprachkenntnis deutsch muttersprach englisch fliessend datenkommunikation edifact internet intranet messag queuing rpc vda produkt standard erfahr 3dexperienc activemq architekt checkstyl coaching dock eclips elastic search git graylog hibernat jasp report jenkin jira junit 4 kubernet mav odata sap plantuml pmd postegresql quarz sap scrum selenium soap sonarqub spring spring 4 spring 5 spring batch spring boot spring boot 2 spring cloud config spring cloud dataflow spring cloud stream spring cloud task spring data spring data sleuth spring integration spring tool suit svn teamfoundationserv tomcat uml vaadin vda 4912 vda 4913 websph java java ee jsf ejb jpa jms jaxws soap rest cdi hibernat spring spring boot jsp servlet junit easymock mockito selenium slf4j log4j commonslang commonsio commonsconfiguration freemark flyingsauc poi mav plugin build mav jenkin hudson sonarqub nexus artifactory checkstyl pmd cobertura svn cvs mercurial git ide eclips intellij nebean application serv tomcat websph weblogic jboss sonstig liferay docbook uml xml xslt xpath jira schwerpunkt agil projektmanagement java architektur java entwickl aufgabenbereich scrum mast ausbildungshistori berufstat 092012– 042012 edicos consulting softwar gmbh co kg hannov lead develop projektleit 012011 – 082012 deutsch mess interactiv gmbh hannov senior develop softwar architect scrum mast 042008 – 122010 quintessenc consulting gmbh hannov senior softwar architect 102007 – 042008 impress softwar gmbh hannov senior j2ee develop 102001 – 102007 quintessenc consulting gmbh hannov 022006 – 102007 director engineering 022004 – 012006 frameworkentwickl teamleit 102001 – 012004 anwendungsentwickl 092000 – 092001 logica pdv gmbh hamburg hannov teilprojektleit schulungsreferent europaweit javaprogrammi 042000 – 082000 connect comput gmbh hamburg vba programmi 091999 – 012000 ludwig windhorst schul hannov realschullehr studium ausbild 101997 – 031999 ausbildungsseminar hannov dietrichbonhoefferrealschul vorbereitungsdien lehramt realschul 10031999 lehr lehramt realschul gesamtnot „gut“ 101992 061997 universitat hannov studium lehramt realschul 11061997 erst staatspruf lehramt realschul gesamtnot „gut“'\n",
      "  'projektbeschreib projekttitel java entwickl projektroll java entwickl beginn 15102019 dau 1 jahr option verlanger auslast 100 einsatzort hannov stundensatz 65 eur auftraggeb angepeilt stundensatz projektbeschreib kund bankenumfeld erfahr java entwickl oracl umfeld start ab sofort dau 1 jahr option verlanger fulltim ort stundensatz 65 euro freu bewerb musthav skill java java entwickl oracl oracl datenbank nicetohav skill']\n",
      " ['senior javaje develop softwar architect gulpidpictur kontakti merklist verfugbar ab 02122019 verfugbar 100 davon ort 60 plzgebiet land d2d3d4d5 stadt hannov 200 km kontaktwunsch mocht bevorzugt projekt einsatzort kontaktiert projekt 042019 112019 8 monat integration plmlosung spring cloud dataflow 012018 032019 1 jahr 3 monat migration buchungsclient swing singlepagewebapplication 072017 122018 1 jahr 6 monat implementier risikosteuer 112016 062017 8 monat umstell reisebuchungsclient swing angular springboot 052014 102016 2 jahr 6 monat implementier verhandl konditionsmanagement 092012 042014 1 jahr 8 monat implementier integration abgleich stucklist 012011 082012 1 jahr 8 monat implementier email kampagnenplattform onlineleadgewinn branch tourist airlin handel automotiv onlinemarketing kompetenz programmiersprach angular java hervorrag java java ee java 10 java 11 java 6 java 8 java 9 javae javascript jaxws jms jpa jsf plsql shell xtend betriebssystem linux windows datenbank jdbc mysql oracl postgr sql sprachkenntnis deutsch muttersprach englisch fliessend datenkommunikation edifact internet intranet messag queuing rpc vda produkt standard erfahr 3dexperienc activemq architekt checkstyl coaching dock eclips elastic search git graylog hibernat jasp report jenkin jira junit 4 kubernet mav odata sap plantuml pmd postegresql quarz sap scrum selenium soap sonarqub spring spring 4 spring 5 spring batch spring boot spring boot 2 spring cloud config spring cloud dataflow spring cloud stream spring cloud task spring data spring data sleuth spring integration spring tool suit svn teamfoundationserv tomcat uml vaadin vda 4912 vda 4913 websph java java ee jsf ejb jpa jms jaxws soap rest cdi hibernat spring spring boot jsp servlet junit easymock mockito selenium slf4j log4j commonslang commonsio commonsconfiguration freemark flyingsauc poi mav plugin build mav jenkin hudson sonarqub nexus artifactory checkstyl pmd cobertura svn cvs mercurial git ide eclips intellij nebean application serv tomcat websph weblogic jboss sonstig liferay docbook uml xml xslt xpath jira schwerpunkt agil projektmanagement java architektur java entwickl aufgabenbereich scrum mast ausbildungshistori berufstat 092012– 042012 edicos consulting softwar gmbh co kg hannov lead develop projektleit 012011 – 082012 deutsch mess interactiv gmbh hannov senior develop softwar architect scrum mast 042008 – 122010 quintessenc consulting gmbh hannov senior softwar architect 102007 – 042008 impress softwar gmbh hannov senior j2ee develop 102001 – 102007 quintessenc consulting gmbh hannov 022006 – 102007 director engineering 022004 – 012006 frameworkentwickl teamleit 102001 – 012004 anwendungsentwickl 092000 – 092001 logica pdv gmbh hamburg hannov teilprojektleit schulungsreferent europaweit javaprogrammi 042000 – 082000 connect comput gmbh hamburg vba programmi 091999 – 012000 ludwig windhorst schul hannov realschullehr studium ausbild 101997 – 031999 ausbildungsseminar hannov dietrichbonhoefferrealschul vorbereitungsdien lehramt realschul 10031999 lehr lehramt realschul gesamtnot „gut“ 101992 061997 universitat hannov studium lehramt realschul 11061997 erst staatspruf lehramt realschul gesamtnot „gut“'\n",
      "  'projektbeschreib titel munch java angular entwickl pos49480 javae jee javascript projektanbiet chiffrekund beginn 14102019 einsatzort munch beschreib munch java angular entwickl pos49480 javae jee javascript einsatzort munch javaangular development leistungszeitraum starttermin 14102019 einsatz 31122019 ort munch gesamtstund 800 leistungsbeschreib handelt web anwend servic berat verwendet fortschritt vorgang verfolg verfugt java ee backend angularjs frontend aufgab • frontend angularjs backend java ee entwickl • erstell textauszug vollstand projektbeschreib find beim projektanbiet']\n",
      " ['senior javaje develop softwar architect gulpidpictur kontakti merklist verfugbar ab 02122019 verfugbar 100 davon ort 60 plzgebiet land d2d3d4d5 stadt hannov 200 km kontaktwunsch mocht bevorzugt projekt einsatzort kontaktiert projekt 042019 112019 8 monat integration plmlosung spring cloud dataflow 012018 032019 1 jahr 3 monat migration buchungsclient swing singlepagewebapplication 072017 122018 1 jahr 6 monat implementier risikosteuer 112016 062017 8 monat umstell reisebuchungsclient swing angular springboot 052014 102016 2 jahr 6 monat implementier verhandl konditionsmanagement 092012 042014 1 jahr 8 monat implementier integration abgleich stucklist 012011 082012 1 jahr 8 monat implementier email kampagnenplattform onlineleadgewinn branch tourist airlin handel automotiv onlinemarketing kompetenz programmiersprach angular java hervorrag java java ee java 10 java 11 java 6 java 8 java 9 javae javascript jaxws jms jpa jsf plsql shell xtend betriebssystem linux windows datenbank jdbc mysql oracl postgr sql sprachkenntnis deutsch muttersprach englisch fliessend datenkommunikation edifact internet intranet messag queuing rpc vda produkt standard erfahr 3dexperienc activemq architekt checkstyl coaching dock eclips elastic search git graylog hibernat jasp report jenkin jira junit 4 kubernet mav odata sap plantuml pmd postegresql quarz sap scrum selenium soap sonarqub spring spring 4 spring 5 spring batch spring boot spring boot 2 spring cloud config spring cloud dataflow spring cloud stream spring cloud task spring data spring data sleuth spring integration spring tool suit svn teamfoundationserv tomcat uml vaadin vda 4912 vda 4913 websph java java ee jsf ejb jpa jms jaxws soap rest cdi hibernat spring spring boot jsp servlet junit easymock mockito selenium slf4j log4j commonslang commonsio commonsconfiguration freemark flyingsauc poi mav plugin build mav jenkin hudson sonarqub nexus artifactory checkstyl pmd cobertura svn cvs mercurial git ide eclips intellij nebean application serv tomcat websph weblogic jboss sonstig liferay docbook uml xml xslt xpath jira schwerpunkt agil projektmanagement java architektur java entwickl aufgabenbereich scrum mast ausbildungshistori berufstat 092012– 042012 edicos consulting softwar gmbh co kg hannov lead develop projektleit 012011 – 082012 deutsch mess interactiv gmbh hannov senior develop softwar architect scrum mast 042008 – 122010 quintessenc consulting gmbh hannov senior softwar architect 102007 – 042008 impress softwar gmbh hannov senior j2ee develop 102001 – 102007 quintessenc consulting gmbh hannov 022006 – 102007 director engineering 022004 – 012006 frameworkentwickl teamleit 102001 – 012004 anwendungsentwickl 092000 – 092001 logica pdv gmbh hamburg hannov teilprojektleit schulungsreferent europaweit javaprogrammi 042000 – 082000 connect comput gmbh hamburg vba programmi 091999 – 012000 ludwig windhorst schul hannov realschullehr studium ausbild 101997 – 031999 ausbildungsseminar hannov dietrichbonhoefferrealschul vorbereitungsdien lehramt realschul 10031999 lehr lehramt realschul gesamtnot „gut“ 101992 061997 universitat hannov studium lehramt realschul 11061997 erst staatspruf lehramt realschul gesamtnot „gut“'\n",
      "  'titel java frontend develop mwd hoh remoteanteil beginn 21102019 dau 31032020 einsatzort kiel beschreib kund dienstleist bereich finanzinformation ab sofort 4 java frontend develop mwd beim kund arbeit zwei projektteam unterschied kundenauftrag beid team jeweil 2 zusatz ressourc unterstutzt projektabwickl beschleun einsatz einarbeit uberwieg remot erfolg teilzeitauslast moglich vollzeit bevorzugt skill java spring boot hibernat kubernet dock microservic angular mysql elasticsearch restapi design']\n",
      " ['senior javaje develop softwar architect gulpidpictur kontakti merklist verfugbar ab 02122019 verfugbar 100 davon ort 60 plzgebiet land d2d3d4d5 stadt hannov 200 km kontaktwunsch mocht bevorzugt projekt einsatzort kontaktiert projekt 042019 112019 8 monat integration plmlosung spring cloud dataflow 012018 032019 1 jahr 3 monat migration buchungsclient swing singlepagewebapplication 072017 122018 1 jahr 6 monat implementier risikosteuer 112016 062017 8 monat umstell reisebuchungsclient swing angular springboot 052014 102016 2 jahr 6 monat implementier verhandl konditionsmanagement 092012 042014 1 jahr 8 monat implementier integration abgleich stucklist 012011 082012 1 jahr 8 monat implementier email kampagnenplattform onlineleadgewinn branch tourist airlin handel automotiv onlinemarketing kompetenz programmiersprach angular java hervorrag java java ee java 10 java 11 java 6 java 8 java 9 javae javascript jaxws jms jpa jsf plsql shell xtend betriebssystem linux windows datenbank jdbc mysql oracl postgr sql sprachkenntnis deutsch muttersprach englisch fliessend datenkommunikation edifact internet intranet messag queuing rpc vda produkt standard erfahr 3dexperienc activemq architekt checkstyl coaching dock eclips elastic search git graylog hibernat jasp report jenkin jira junit 4 kubernet mav odata sap plantuml pmd postegresql quarz sap scrum selenium soap sonarqub spring spring 4 spring 5 spring batch spring boot spring boot 2 spring cloud config spring cloud dataflow spring cloud stream spring cloud task spring data spring data sleuth spring integration spring tool suit svn teamfoundationserv tomcat uml vaadin vda 4912 vda 4913 websph java java ee jsf ejb jpa jms jaxws soap rest cdi hibernat spring spring boot jsp servlet junit easymock mockito selenium slf4j log4j commonslang commonsio commonsconfiguration freemark flyingsauc poi mav plugin build mav jenkin hudson sonarqub nexus artifactory checkstyl pmd cobertura svn cvs mercurial git ide eclips intellij nebean application serv tomcat websph weblogic jboss sonstig liferay docbook uml xml xslt xpath jira schwerpunkt agil projektmanagement java architektur java entwickl aufgabenbereich scrum mast ausbildungshistori berufstat 092012– 042012 edicos consulting softwar gmbh co kg hannov lead develop projektleit 012011 – 082012 deutsch mess interactiv gmbh hannov senior develop softwar architect scrum mast 042008 – 122010 quintessenc consulting gmbh hannov senior softwar architect 102007 – 042008 impress softwar gmbh hannov senior j2ee develop 102001 – 102007 quintessenc consulting gmbh hannov 022006 – 102007 director engineering 022004 – 012006 frameworkentwickl teamleit 102001 – 012004 anwendungsentwickl 092000 – 092001 logica pdv gmbh hamburg hannov teilprojektleit schulungsreferent europaweit javaprogrammi 042000 – 082000 connect comput gmbh hamburg vba programmi 091999 – 012000 ludwig windhorst schul hannov realschullehr studium ausbild 101997 – 031999 ausbildungsseminar hannov dietrichbonhoefferrealschul vorbereitungsdien lehramt realschul 10031999 lehr lehramt realschul gesamtnot „gut“ 101992 061997 universitat hannov studium lehramt realschul 11061997 erst staatspruf lehramt realschul gesamtnot „gut“'\n",
      "  'titel applikationsentwickl python java beginn 04112019 dau 3 monat einsatzort stuttgart beschreib kund raum stuttgart erfahr pythonjavaentwickl mwd entwickl applikation bereich simulationsdatenmanagement unterstutzt projekthintergrund suchend abteil kummert gesamt toolkett produktentwicklungsbereich aktuell bereich plmsdm kommerziell losung eingesetzt abgelost ubergangszeit mocht toolkit verwend ausserhalb bish genutzt sdmlosung sdm simulationsdatenmanagement arbeitet geplant featur anwend benutzeroberflach windows evtl zusatz linux standardisiert ordnerstruktur neu simulation kopplung per xml schnittstell simulationsauftragsverwalt bereit schnittstell vorhand ermog attribut simulationsauftrag benenn einzeln ordn struktur verwend weitergab attribut script zentral samml implementier standortbasiert ablauf drei simulationsstandort script routin lokal infrastruktur bzw pfadstruktur serv high performanc computing system ausgefuhrt einsatz erfolgt agil projekt bzw programmierumfeld kund wunscht auslast 45 tagenwoch remoteoption besteht ggf abschliess geklart skill praktisch erfahr applikationsentwickl javaprakt erfahr applikationsentwickl pythonoptional kenntnis weit skriptsprach bashshell etc']\n",
      " ['senior javaje develop softwar architect gulpidpictur kontakti merklist verfugbar ab 02122019 verfugbar 100 davon ort 60 plzgebiet land d2d3d4d5 stadt hannov 200 km kontaktwunsch mocht bevorzugt projekt einsatzort kontaktiert projekt 042019 112019 8 monat integration plmlosung spring cloud dataflow 012018 032019 1 jahr 3 monat migration buchungsclient swing singlepagewebapplication 072017 122018 1 jahr 6 monat implementier risikosteuer 112016 062017 8 monat umstell reisebuchungsclient swing angular springboot 052014 102016 2 jahr 6 monat implementier verhandl konditionsmanagement 092012 042014 1 jahr 8 monat implementier integration abgleich stucklist 012011 082012 1 jahr 8 monat implementier email kampagnenplattform onlineleadgewinn branch tourist airlin handel automotiv onlinemarketing kompetenz programmiersprach angular java hervorrag java java ee java 10 java 11 java 6 java 8 java 9 javae javascript jaxws jms jpa jsf plsql shell xtend betriebssystem linux windows datenbank jdbc mysql oracl postgr sql sprachkenntnis deutsch muttersprach englisch fliessend datenkommunikation edifact internet intranet messag queuing rpc vda produkt standard erfahr 3dexperienc activemq architekt checkstyl coaching dock eclips elastic search git graylog hibernat jasp report jenkin jira junit 4 kubernet mav odata sap plantuml pmd postegresql quarz sap scrum selenium soap sonarqub spring spring 4 spring 5 spring batch spring boot spring boot 2 spring cloud config spring cloud dataflow spring cloud stream spring cloud task spring data spring data sleuth spring integration spring tool suit svn teamfoundationserv tomcat uml vaadin vda 4912 vda 4913 websph java java ee jsf ejb jpa jms jaxws soap rest cdi hibernat spring spring boot jsp servlet junit easymock mockito selenium slf4j log4j commonslang commonsio commonsconfiguration freemark flyingsauc poi mav plugin build mav jenkin hudson sonarqub nexus artifactory checkstyl pmd cobertura svn cvs mercurial git ide eclips intellij nebean application serv tomcat websph weblogic jboss sonstig liferay docbook uml xml xslt xpath jira schwerpunkt agil projektmanagement java architektur java entwickl aufgabenbereich scrum mast ausbildungshistori berufstat 092012– 042012 edicos consulting softwar gmbh co kg hannov lead develop projektleit 012011 – 082012 deutsch mess interactiv gmbh hannov senior develop softwar architect scrum mast 042008 – 122010 quintessenc consulting gmbh hannov senior softwar architect 102007 – 042008 impress softwar gmbh hannov senior j2ee develop 102001 – 102007 quintessenc consulting gmbh hannov 022006 – 102007 director engineering 022004 – 012006 frameworkentwickl teamleit 102001 – 012004 anwendungsentwickl 092000 – 092001 logica pdv gmbh hamburg hannov teilprojektleit schulungsreferent europaweit javaprogrammi 042000 – 082000 connect comput gmbh hamburg vba programmi 091999 – 012000 ludwig windhorst schul hannov realschullehr studium ausbild 101997 – 031999 ausbildungsseminar hannov dietrichbonhoefferrealschul vorbereitungsdien lehramt realschul 10031999 lehr lehramt realschul gesamtnot „gut“ 101992 061997 universitat hannov studium lehramt realschul 11061997 erst staatspruf lehramt realschul gesamtnot „gut“'\n",
      "  'titel fullstackentwickl mwd schwerpunkt middlewar beginn 01112019 dau 31012020 einsatzort freiburg breisgau beschreib industriekund fullstackentwickl mwd schwerpunkt bereich middlewar backend sieht hierbei handelt umsetz weiterentwickl microservic architektur bereich sensor skill spring boot javaje dock jenkin optional deployment git']]\n",
      "[2 4 4 5 4]\n",
      "Average CV length:  3565.5\n",
      "Average job post length:  865.9\n",
      "(1540, 2)\n",
      "(1540,)\n"
     ]
    }
   ],
   "source": [
    "import string\n",
    "from nltk.tokenize import word_tokenize\n",
    "from nltk.corpus import stopwords\n",
    "from nltk.stem.snowball import SnowballStemmer\n",
    "\n",
    "stop_words = set(stopwords.words('german'))|set(stopwords.words('english'))\n",
    "germanStemmer = SnowballStemmer('german', ignore_stopwords = True)\n",
    "\n",
    "def cleanup_text(text):\n",
    "    # remove punctuation and replace with whitespace\n",
    "    #text = ' '.join(text.translate(str.maketrans('','',string.punctuation)).split())\n",
    "    text = text.translate(str.maketrans('','',string.punctuation))\n",
    "    # stemming\n",
    "    text = ' '.join(germanStemmer.stem(word) for word in text.split())\n",
    "    # remove stopwords\n",
    "    text = ' '.join(word for word in text.split() if word not in stop_words)\n",
    "    # remove extra spaces\n",
    "    text = ' '.join(text.split())\n",
    "    # lowercase\n",
    "    return text.lower()\n",
    "\n",
    "## Returns words as tokens (an array, with unique words as columns)\n",
    "#def tokenize(text):\n",
    "#    tokens = word_tokenize(text)\n",
    "#    for w in tokens:\n",
    "#        w = lemmatize(w)\n",
    "#    result = [i for i in tokens if not i in stop_words]\n",
    "#    return result\n",
    "\n",
    "## Returns words in base form (stemming)\n",
    "#def lemmatize(text):\n",
    "#    text = germanStemmer.stem(text)\n",
    "#    return text\n",
    "\n",
    "for p in pairs:\n",
    "    p[0] = cleanup_text(p[0])\n",
    "    p[1] = cleanup_text(p[1])\n",
    "    \n",
    "# print the first 5 pairs/labels\n",
    "print(pairs[:5])\n",
    "print(labels[:5])\n",
    "\n",
    "# print the average length of documents\n",
    "print('Average CV length: ', get_average_text_length(pairs[:,0]))\n",
    "print('Average job post length: ', get_average_text_length(pairs[:,1]))\n",
    "\n",
    "# print the array shape\n",
    "print(pairs.shape)\n",
    "print(labels.shape)"
   ]
  },
  {
   "cell_type": "markdown",
   "metadata": {},
   "source": [
    "### ◐ Preparing train and test set <br>\n",
    "The entire prepared dataset is split into train and test data. <br>To ensure a fair experiment, the sets are generated once and will be used for all models/algorithms below. In other words, the contents of the train and test data are the same for all models. <br> However, when the cell is restarted, the entire dataset will be split differently."
   ]
  },
  {
   "cell_type": "code",
   "execution_count": 6,
   "metadata": {},
   "outputs": [],
   "source": [
    "EPOCHS = 15\n",
    "TEST_SPLIT = 0.25\n",
    "LABELS = np.array([1,2,3,4,5])"
   ]
  },
  {
   "cell_type": "code",
   "execution_count": 7,
   "metadata": {},
   "outputs": [],
   "source": [
    "from sklearn.model_selection import train_test_split\n",
    "\n",
    "x_train, x_test, y_train, y_test = train_test_split(pairs, labels, test_size=TEST_SPLIT, random_state=42)\n",
    "\n",
    "# TODO k-fold?"
   ]
  },
  {
   "cell_type": "markdown",
   "metadata": {},
   "source": [
    "### Helper methods for data analysis"
   ]
  },
  {
   "cell_type": "code",
   "execution_count": 8,
   "metadata": {},
   "outputs": [],
   "source": [
    "from sklearn.metrics import confusion_matrix, classification_report\n",
    "from sklearn.utils.multiclass import unique_labels\n",
    "import matplotlib.pyplot as plt\n",
    "\n",
    "# copied from documentation\n",
    "\n",
    "def plot_confusion_matrix(y_true, y_pred, classes,\n",
    "                          normalize=False,\n",
    "                          title=None,\n",
    "                          cmap=plt.cm.Blues):\n",
    "    \"\"\"\n",
    "    This function prints and plots the confusion matrix.\n",
    "    Normalization can be applied by setting `normalize=True`.\n",
    "    \"\"\"\n",
    "    if not title:\n",
    "        if normalize:\n",
    "            title = 'Normalized confusion matrix'\n",
    "        else:\n",
    "            title = 'Confusion matrix, without normalization'\n",
    "\n",
    "    # Compute confusion matrix\n",
    "    cm = confusion_matrix(y_true, y_pred)\n",
    "    # Only use the labels that appear in the data\n",
    "    #classes = classes[unique_labels(y_true, y_pred)]\n",
    "    if normalize:\n",
    "        cm = cm.astype('float') / cm.sum(axis=1)[:, np.newaxis]\n",
    "        print(\"Normalized confusion matrix\")\n",
    "    else:\n",
    "        print('Confusion matrix, without normalization')\n",
    "\n",
    "    print(cm)\n",
    "\n",
    "    fig, ax = plt.subplots()\n",
    "    im = ax.imshow(cm, interpolation='nearest', cmap=cmap)\n",
    "    ax.figure.colorbar(im, ax=ax)\n",
    "    # We want to show all ticks...\n",
    "    ax.set(xticks=np.arange(cm.shape[1]),\n",
    "           yticks=np.arange(cm.shape[0]),\n",
    "           # ... and label them with the respective list entries\n",
    "           xticklabels=classes, yticklabels=classes,\n",
    "           title=title,\n",
    "           ylabel='True label',\n",
    "           xlabel='Predicted label')\n",
    "\n",
    "    # Rotate the tick labels and set their alignment.\n",
    "    plt.setp(ax.get_xticklabels(), rotation=45, ha=\"right\",\n",
    "             rotation_mode=\"anchor\")\n",
    "\n",
    "    # Loop over data dimensions and create text annotations.\n",
    "    fmt = '.2f' if normalize else 'd'\n",
    "    thresh = cm.max() / 2.\n",
    "    for i in range(cm.shape[0]):\n",
    "        for j in range(cm.shape[1]):\n",
    "            ax.text(j, i, format(cm[i, j], fmt),\n",
    "                    ha=\"center\", va=\"center\",\n",
    "                    color=\"white\" if cm[i, j] > thresh else \"black\")\n",
    "    fig.tight_layout()\n",
    "    return ax\n",
    "\n",
    "def model_classification_report(y_true, y_pred, labels):\n",
    "    return classification_report(y_true, y_pred, labels=labels)\n"
   ]
  },
  {
   "cell_type": "markdown",
   "metadata": {},
   "source": [
    "### Helper methods for evaluation"
   ]
  },
  {
   "cell_type": "code",
   "execution_count": 9,
   "metadata": {},
   "outputs": [],
   "source": [
    "def euclidean_distance(vects):\n",
    "    x, y = vects\n",
    "    sum_square = K.sum(K.square(x - y), axis=1, keepdims=True)\n",
    "    return K.sqrt(K.maximum(sum_square, K.epsilon()))\n",
    "\n",
    "\n",
    "def eucl_dist_output_shape(shapes):\n",
    "    shape1, shape2 = shapes\n",
    "    return (shape1[0], 1)\n",
    "\n",
    "def compute_accuracy(y_true, y_pred):\n",
    "    '''Compute classification accuracy with a fixed threshold on distances.\n",
    "    '''\n",
    "    pred = y_pred.ravel() < 0.5\n",
    "    return np.mean(pred == y_true)\n",
    "\n",
    "\n",
    "def accuracy(y_true, y_pred):\n",
    "    '''Compute classification accuracy with a fixed threshold on distances.\n",
    "    '''\n",
    "    return K.mean(K.equal(y_true, K.cast(y_pred < 0.5, y_true.dtype)))"
   ]
  },
  {
   "cell_type": "code",
   "execution_count": 10,
   "metadata": {},
   "outputs": [],
   "source": [
    "# neural network libraries\n",
    "from keras.models import Model, Sequential\n",
    "from keras.layers import Input, Flatten, Dense, Dropout, Lambda, Conv1D, MaxPooling1D, Embedding, concatenate\n",
    "from keras.optimizers import RMSprop\n",
    "from keras.initializers import Constant\n",
    "from keras import backend as K"
   ]
  },
  {
   "cell_type": "markdown",
   "metadata": {},
   "source": [
    "### The bag of words method"
   ]
  },
  {
   "cell_type": "code",
   "execution_count": 11,
   "metadata": {},
   "outputs": [
    {
     "name": "stdout",
     "output_type": "stream",
     "text": [
      "(1155, 6378)\n",
      "(1155, 6378)\n",
      "(1155, 1)\n"
     ]
    },
    {
     "data": {
      "text/plain": [
       "<matplotlib.collections.PathCollection at 0x1571d87bb88>"
      ]
     },
     "execution_count": 11,
     "metadata": {},
     "output_type": "execute_result"
    },
    {
     "data": {
      "image/png": "[encoded data removed]",
      "text/plain": [
       "<Figure size 432x288 with 1 Axes>"
      ]
     },
     "metadata": {
      "needs_background": "light"
     },
     "output_type": "display_data"
    },
    {
     "name": "stdout",
     "output_type": "stream",
     "text": [
      "              precision    recall  f1-score   support\n",
      "\n",
      "           1       0.00      0.00      0.00        12\n",
      "           2       0.00      0.00      0.00        13\n",
      "           3       0.00      0.00      0.00        25\n",
      "           4       0.00      0.00      0.00        62\n",
      "           5       0.71      1.00      0.83       273\n",
      "\n",
      "    accuracy                           0.71       385\n",
      "   macro avg       0.14      0.20      0.17       385\n",
      "weighted avg       0.50      0.71      0.59       385\n",
      "\n",
      "Confusion matrix, without normalization\n",
      "[[  0   0   0   0  12]\n",
      " [  0   0   0   0  13]\n",
      " [  0   0   0   0  25]\n",
      " [  0   0   0   0  62]\n",
      " [  0   0   0   0 273]]\n"
     ]
    },
    {
     "name": "stderr",
     "output_type": "stream",
     "text": [
      "c:\\users\\user\\anaconda3\\envs\\tensorflow_env\\lib\\site-packages\\sklearn\\metrics\\classification.py:1437: UndefinedMetricWarning:\n",
      "\n",
      "Precision and F-score are ill-defined and being set to 0.0 in labels with no predicted samples.\n",
      "\n"
     ]
    },
    {
     "data": {
      "text/plain": [
       "<matplotlib.axes._subplots.AxesSubplot at 0x1571d79bec8>"
      ]
     },
     "execution_count": 11,
     "metadata": {},
     "output_type": "execute_result"
    },
    {
     "data": {
      "image/png": "[encoded data removed]",
      "text/plain": [
       "<Figure size 432x288 with 2 Axes>"
      ]
     },
     "metadata": {
      "needs_background": "light"
     },
     "output_type": "display_data"
    }
   ],
   "source": [
    "from sklearn.feature_extraction.text import CountVectorizer, TfidfVectorizer\n",
    "from sklearn.pipeline import FeatureUnion\n",
    "from sklearn.naive_bayes import MultinomialNB\n",
    "from sklearn.linear_model import LogisticRegression\n",
    "from sklearn.metrics.pairwise import cosine_similarity\n",
    "import matplotlib.pyplot as plt\n",
    "\n",
    "cvec = CountVectorizer()\n",
    "similarity = []\n",
    "\n",
    "vector = cvec.fit_transform(x_train.ravel()).toarray()\n",
    "cv_vector = cvec.transform(x_train[:,0])\n",
    "job_vector = cvec.transform(x_train[:,1])\n",
    "\n",
    "print(cv_vector.shape)\n",
    "print(job_vector.shape)\n",
    "\n",
    "# calculate cosine similarity\n",
    "for i in range(x_train.shape[0]):\n",
    "    similarity.append(cosine_similarity(cv_vector[i,:], job_vector[i,:])[0][0])\n",
    "\n",
    "similarity = np.array(similarity).reshape(-1,1)\n",
    "print(similarity.shape)\n",
    "\n",
    "# visualise data\n",
    "plt.scatter(similarity, y_train)\n",
    "plt.show()\n",
    "\n",
    "# train model\n",
    "model = MultinomialNB().fit(similarity, y_train)\n",
    "\n",
    "#test\n",
    "similarity_test = []\n",
    "cv_vector_test = cvec.transform(x_test[:,0])\n",
    "job_vector_test = cvec.transform(x_test[:,1])\n",
    "\n",
    "# calculate cosine similarity\n",
    "for i in range(x_test.shape[0]):\n",
    "    similarity_test.append(cosine_similarity(cv_vector_test[i,:], job_vector_test[i,:])[0][0])\n",
    "\n",
    "similarity_test = np.array(similarity_test).reshape(-1,1)\n",
    "\n",
    "# evaluate\n",
    "y_pred = model.predict(similarity_test)\n",
    "# print evaluation measures\n",
    "print(model_classification_report(y_test, y_pred, LABELS))\n",
    "plot_confusion_matrix(y_test, y_pred, LABELS)\n",
    "\n"
   ]
  },
  {
   "cell_type": "code",
   "execution_count": 12,
   "metadata": {},
   "outputs": [
    {
     "data": {
      "text/html": [
       "<div>\n",
       "<style scoped>\n",
       "    .dataframe tbody tr th:only-of-type {\n",
       "        vertical-align: middle;\n",
       "    }\n",
       "\n",
       "    .dataframe tbody tr th {\n",
       "        vertical-align: top;\n",
       "    }\n",
       "\n",
       "    .dataframe thead th {\n",
       "        text-align: right;\n",
       "    }\n",
       "</style>\n",
       "<table border=\"1\" class=\"dataframe\">\n",
       "  <thead>\n",
       "    <tr style=\"text-align: right;\">\n",
       "      <th></th>\n",
       "      <th>label</th>\n",
       "      <th>s1</th>\n",
       "      <th>s2</th>\n",
       "    </tr>\n",
       "  </thead>\n",
       "  <tbody>\n",
       "    <tr>\n",
       "      <td>0</td>\n",
       "      <td>5.00</td>\n",
       "      <td>A plane is taking off.</td>\n",
       "      <td>An air plane is taking off.</td>\n",
       "    </tr>\n",
       "    <tr>\n",
       "      <td>1</td>\n",
       "      <td>3.80</td>\n",
       "      <td>A man is playing a large flute.</td>\n",
       "      <td>A man is playing a flute.</td>\n",
       "    </tr>\n",
       "    <tr>\n",
       "      <td>2</td>\n",
       "      <td>3.80</td>\n",
       "      <td>A man is spreading shreded cheese on a pizza.</td>\n",
       "      <td>A man is spreading shredded cheese on an uncoo...</td>\n",
       "    </tr>\n",
       "    <tr>\n",
       "      <td>3</td>\n",
       "      <td>2.60</td>\n",
       "      <td>Three men are playing chess.</td>\n",
       "      <td>Two men are playing chess.</td>\n",
       "    </tr>\n",
       "    <tr>\n",
       "      <td>4</td>\n",
       "      <td>4.25</td>\n",
       "      <td>A man is playing the cello.</td>\n",
       "      <td>A man seated is playing the cello.</td>\n",
       "    </tr>\n",
       "  </tbody>\n",
       "</table>\n",
       "</div>"
      ],
      "text/plain": [
       "   label                                             s1  \\\n",
       "0   5.00                         A plane is taking off.   \n",
       "1   3.80                A man is playing a large flute.   \n",
       "2   3.80  A man is spreading shreded cheese on a pizza.   \n",
       "3   2.60                   Three men are playing chess.   \n",
       "4   4.25                    A man is playing the cello.   \n",
       "\n",
       "                                                  s2  \n",
       "0                        An air plane is taking off.  \n",
       "1                          A man is playing a flute.  \n",
       "2  A man is spreading shredded cheese on an uncoo...  \n",
       "3                         Two men are playing chess.  \n",
       "4                 A man seated is playing the cello.  "
      ]
     },
     "execution_count": 12,
     "metadata": {},
     "output_type": "execute_result"
    },
    {
     "data": {
      "text/html": [
       "<div>\n",
       "<style scoped>\n",
       "    .dataframe tbody tr th:only-of-type {\n",
       "        vertical-align: middle;\n",
       "    }\n",
       "\n",
       "    .dataframe tbody tr th {\n",
       "        vertical-align: top;\n",
       "    }\n",
       "\n",
       "    .dataframe thead th {\n",
       "        text-align: right;\n",
       "    }\n",
       "</style>\n",
       "<table border=\"1\" class=\"dataframe\">\n",
       "  <thead>\n",
       "    <tr style=\"text-align: right;\">\n",
       "      <th></th>\n",
       "      <th>label</th>\n",
       "      <th>s1</th>\n",
       "      <th>s2</th>\n",
       "    </tr>\n",
       "  </thead>\n",
       "  <tbody>\n",
       "    <tr>\n",
       "      <td>0</td>\n",
       "      <td>2.5</td>\n",
       "      <td>A girl is styling her hair.</td>\n",
       "      <td>A girl is brushing her hair.</td>\n",
       "    </tr>\n",
       "    <tr>\n",
       "      <td>1</td>\n",
       "      <td>3.6</td>\n",
       "      <td>A group of men play soccer on the beach.</td>\n",
       "      <td>A group of boys are playing soccer on the beach.</td>\n",
       "    </tr>\n",
       "    <tr>\n",
       "      <td>2</td>\n",
       "      <td>5.0</td>\n",
       "      <td>One woman is measuring another woman's ankle.</td>\n",
       "      <td>A woman measures another woman's ankle.</td>\n",
       "    </tr>\n",
       "    <tr>\n",
       "      <td>3</td>\n",
       "      <td>4.2</td>\n",
       "      <td>A man is cutting up a cucumber.</td>\n",
       "      <td>A man is slicing a cucumber.</td>\n",
       "    </tr>\n",
       "    <tr>\n",
       "      <td>4</td>\n",
       "      <td>1.5</td>\n",
       "      <td>A man is playing a harp.</td>\n",
       "      <td>A man is playing a keyboard.</td>\n",
       "    </tr>\n",
       "  </tbody>\n",
       "</table>\n",
       "</div>"
      ],
      "text/plain": [
       "   label                                             s1  \\\n",
       "0    2.5                    A girl is styling her hair.   \n",
       "1    3.6       A group of men play soccer on the beach.   \n",
       "2    5.0  One woman is measuring another woman's ankle.   \n",
       "3    4.2                A man is cutting up a cucumber.   \n",
       "4    1.5                       A man is playing a harp.   \n",
       "\n",
       "                                                 s2  \n",
       "0                      A girl is brushing her hair.  \n",
       "1  A group of boys are playing soccer on the beach.  \n",
       "2           A woman measures another woman's ankle.  \n",
       "3                      A man is slicing a cucumber.  \n",
       "4                      A man is playing a keyboard.  "
      ]
     },
     "execution_count": 12,
     "metadata": {},
     "output_type": "execute_result"
    },
    {
     "name": "stdout",
     "output_type": "stream",
     "text": [
      "Training size is (5711, 3)\n",
      "Test size is (1379, 3)\n",
      "Training size is (1155, 2)\n",
      "Test size is (385, 2)\n"
     ]
    },
    {
     "data": {
      "text/plain": [
       "<matplotlib.collections.PathCollection at 0x1571d8832c8>"
      ]
     },
     "execution_count": 12,
     "metadata": {},
     "output_type": "execute_result"
    },
    {
     "data": {
      "image/png": "[encoded data removed]",
      "text/plain": [
       "<Figure size 432x288 with 1 Axes>"
      ]
     },
     "metadata": {
      "needs_background": "light"
     },
     "output_type": "display_data"
    },
    {
     "name": "stdout",
     "output_type": "stream",
     "text": [
      "Mean squared error: 1.36\n",
      "Variance score: 0.42\n"
     ]
    }
   ],
   "source": [
    "# test on STS dataset\n",
    "# note that unlike the previous dataset, the label for this set is continuous in the range [0-5]\n",
    "from sklearn.linear_model import LinearRegression\n",
    "from sklearn.metrics import mean_squared_error, r2_score\n",
    "\n",
    "STS_COLUMNS = ['label','s1','s2']\n",
    "\n",
    "# read data\n",
    "sts_train = pd.read_csv('data/sts-train.csv',sep='\\t',usecols=[i for i in range(4,7)],names=STS_COLUMNS)\n",
    "sts_test = pd.read_csv('data/sts-test.csv',sep='\\t',usecols=[i for i in range(4,7)],quoting=csv.QUOTE_NONE,names=STS_COLUMNS)\n",
    "\n",
    "sts_train.head()\n",
    "sts_test.head()\n",
    "\n",
    "print('Training size is', sts_train.shape)\n",
    "print('Test size is', sts_test.shape)\n",
    "\n",
    "# drop rows with nan values\n",
    "sts_train = sts_train.dropna(axis=0,how='any')\n",
    "sts_test = sts_test.dropna(axis=0,how='any')\n",
    "\n",
    "print('Training size is', x_train.shape)\n",
    "print('Test size is', x_test.shape)\n",
    "\n",
    "# train model\n",
    "similarity = []\n",
    "x_train = sts_train.to_numpy()\n",
    "y_train = x_train[:,0]\n",
    "\n",
    "# cleanup text\n",
    "for x in x_train:\n",
    "    x[1] = cleanup_text(x[1])\n",
    "    x[2] = cleanup_text(x[2])\n",
    "\n",
    "# learn vocabulary\n",
    "cvec1 = CountVectorizer()\n",
    "vector = cvec1.fit_transform((x_train[:,[1,2]].ravel()).astype('U'))\n",
    "s1_vector = cvec1.transform(x_train[:,1])\n",
    "s2_vector = cvec1.transform(x_train[:,2])\n",
    "\n",
    "# calculate cosine similarity for each pair (not pairwise!)\n",
    "for i in range(x_train.shape[0]):\n",
    "    similarity.append(cosine_similarity(s1_vector[i,:], s2_vector[i,:])[0][0])\n",
    "    \n",
    "similarity = np.array(similarity).reshape(-1,1)\n",
    "\n",
    "# visualise data\n",
    "plt.scatter(similarity, y_train)\n",
    "plt.show()\n",
    "\n",
    "# fit model\n",
    "stsmodel = LinearRegression().fit(similarity, y_train)\n",
    "\n",
    "# test\n",
    "similarity_test = []\n",
    "x_test = sts_test.to_numpy()\n",
    "y_test = x_test[:,0]\n",
    "\n",
    "# cleanup text\n",
    "for x in x_test:\n",
    "    x[1] = cleanup_text(x[1])\n",
    "    x[2] = cleanup_text(x[2])\n",
    "\n",
    "s1_vector_test = cvec1.transform(x_test[:,1])\n",
    "s2_vector_test = cvec1.transform(x_test[:,2])\n",
    "\n",
    "# calculate cosine similarity for each pair (not pairwise!)\n",
    "for i in range(x_test.shape[0]):\n",
    "    similarity_test.append(cosine_similarity(s1_vector_test[i,:], s2_vector_test[i,:])[0][0])\n",
    "\n",
    "similarity_test = np.array(similarity_test).reshape(-1,1)\n",
    "\n",
    "# evaluate\n",
    "y_pred = stsmodel.predict(similarity_test)\n",
    "# print evaluation measures (for continuous data)\n",
    "# The mean squared error\n",
    "print(\"Mean squared error: %.2f\"\n",
    "      % mean_squared_error(y_test, y_pred))\n",
    "# Explained variance score: 1 is perfect prediction\n",
    "print('Variance score: %.2f' % r2_score(y_test, y_pred))\n"
   ]
  },
  {
   "cell_type": "code",
   "execution_count": 13,
   "metadata": {
    "scrolled": true
   },
   "outputs": [],
   "source": [
    "\n",
    "\n",
    "# # initiate the vectorizer object\n",
    "# cvec1 = CountVectorizer()\n",
    "# cvec2 = CountVectorizer()\n",
    "\n",
    "# # the text will be tokenized inside the CountVectorizer anyway.\n",
    "# cv_vector_bow = cvec1.fit_transform(x_train[:,0]).toarray()\n",
    "# print(cv_vector_bow.shape)\n",
    "# jobpost_vector_bow = cvec2.fit_transform(x_train[:,1]).toarray()\n",
    "# print(jobpost_vector_bow.shape)\n",
    "\n",
    "# # either using scikit FeatureUnion, or literally concatenate\n",
    "# # now: literally concatenate\n",
    "# # TODO train whole process?\n",
    "# # TODO create separate method for entire model?\n",
    "\n",
    "# merged_vector_bow = np.concatenate((cv_vector_bow, jobpost_vector_bow), axis=1)\n",
    "# #jobpost_temp_vector_bow = np.zeros(cv_vector_bow.shape)\n",
    "# #jobpost_temp_vector_bow[:jobpost_vector_bow.shape[0],:jobpost_vector_bow.shape[1]] = jobpost_vector_bow\n",
    "# #merged_vector_bow = cosine_similarity(cv_vector_bow, jobpost_temp_vector_bow)\n",
    "# print(merged_vector_bow.shape)\n",
    "\n",
    "# clf = MultinomialNB().fit(merged_vector_bow, y_train)\n",
    "\n",
    "# # evaluate with test data\n",
    "# cv_vector_bow_test = cvec1.transform(x_test[:,0]).toarray()\n",
    "# jobpost_vector_bow_test = cvec2.transform(x_test[:,1]).toarray()\n",
    "# merged_vector_bow_test = np.concatenate((cv_vector_bow_test, jobpost_vector_bow_test), axis=1)\n",
    "# #jobpost_temp_vector_bow = np.zeros(cv_vector_bow.shape)\n",
    "# #jobpost_temp_vector_bow[:jobpost_vector_bow_test.shape[0],:jobpost_vector_bow_test.shape[1]] = jobpost_vector_bow_test\n",
    "# #merged_vector_bow_test = cosine_similarity(cv_vector_bow_test, jobpost_temp_vector_bow)\n",
    "\n",
    "# y_pred = clf.predict(merged_vector_bow_test)\n",
    "\n",
    "# # print evaluation measures\n",
    "# print(model_classification_report(y_test, y_pred, LABELS))\n",
    "# plot_confusion_matrix(y_test, y_pred, LABELS)\n",
    "\n"
   ]
  },
  {
   "cell_type": "code",
   "execution_count": 14,
   "metadata": {},
   "outputs": [],
   "source": [
    "# from sklearn.model_selection import cross_val_score, cross_val_predict\n",
    "\n",
    "# accuracy = cross_val_score(MultinomialNB(), merged_vector_bow, y_train, cv=5)\n",
    "# print('Average accuracy: ', np.mean(accuracy))\n",
    "# print('Standard deviation: ', np.std(accuracy))\n",
    "\n",
    "# y_pred_cross_val = cross_val_predict(clf, merged_vector_bow, y_train, cv=5)\n",
    "# # print evaluation measures\n",
    "# print(model_classification_report(y_train, y_pred_cross_val, LABELS))\n",
    "# plot_confusion_matrix(y_train, y_pred_cross_val, LABELS)"
   ]
  },
  {
   "cell_type": "markdown",
   "metadata": {},
   "source": [
    "### Tf-idf"
   ]
  },
  {
   "cell_type": "code",
   "execution_count": 15,
   "metadata": {},
   "outputs": [],
   "source": [
    "# # initiate the vectorizer object\n",
    "# tfvec1 = TfidfVectorizer()\n",
    "# tfvec2 = TfidfVectorizer()\n",
    "\n",
    "# # the text will be tokenized inside the CountVectorizer anyway.\n",
    "# cv_vector_bow = tfvec1.fit_transform(x_train[:,0]).toarray()\n",
    "# jobpost_vector_bow = tfvec2.fit_transform(x_train[:,1]).toarray()\n",
    "\n",
    "# # either using scikit FeatureUnion, or literally concatenate\n",
    "# # now: literally concatenate\n",
    "# # TODO train whole process?\n",
    "# # TODO create separate method for entire model?\n",
    "\n",
    "# merged_vector_bow = np.concatenate((cv_vector_bow, jobpost_vector_bow), axis=1)\n",
    "# print(merged_vector_bow.shape)\n",
    "\n",
    "# clf = MultinomialNB().fit(merged_vector_bow, y_train)\n",
    "\n",
    "# # evaluate with test data\n",
    "# cv_vector_bow_test = tfvec1.transform(x_test[:,0]).toarray()\n",
    "# jobpost_vector_bow_test = tfvec2.transform(x_test[:,1]).toarray()\n",
    "# merged_vector_bow_test = np.concatenate((cv_vector_bow_test, jobpost_vector_bow_test), axis=1)\n",
    "\n",
    "# y_pred = clf.predict(merged_vector_bow_test)\n",
    "\n",
    "# # print evaluation measures\n",
    "# print(model_classification_report(y_test, y_pred, LABELS))\n",
    "# plot_confusion_matrix(y_test, y_pred, LABELS)\n",
    "\n",
    "# accuracy = cross_val_score(MultinomialNB(), merged_vector_bow, y_train, cv=5)\n",
    "# print('Average accuracy: ', np.mean(accuracy))\n",
    "# print('Standard deviation: ', np.std(accuracy))\n"
   ]
  },
  {
   "cell_type": "markdown",
   "metadata": {},
   "source": [
    "### GloVe"
   ]
  },
  {
   "cell_type": "code",
   "execution_count": 16,
   "metadata": {},
   "outputs": [
    {
     "name": "stdout",
     "output_type": "stream",
     "text": [
      "GloVe data loaded\n",
      "Found 400000 word vectors.\n"
     ]
    }
   ],
   "source": [
    "#TODO download better glove embedding (840B instead of 6B)\n",
    "# This module loads pre-trained word embeddings (GloVe embeddings) into a frozen Keras embedding layer.\n",
    "# This will be used to train a text classification model.\n",
    "\n",
    "# copied from documentation\n",
    "\n",
    "embeddings_index = {}\n",
    "with open(os.path.join('', 'glove.6B.300d.txt'), encoding='utf8') as f:\n",
    "    for line in f:\n",
    "        word, coefs = line.split(maxsplit=1)\n",
    "        coefs = np.fromstring(coefs, 'f', sep=' ')\n",
    "        embeddings_index[word] = coefs\n",
    "\n",
    "print('GloVe data loaded')\n",
    "print('Found %s word vectors.' % len(embeddings_index))"
   ]
  },
  {
   "cell_type": "code",
   "execution_count": 17,
   "metadata": {},
   "outputs": [
    {
     "name": "stdout",
     "output_type": "stream",
     "text": [
      "Preparing embedding matrix.\n",
      "Found 5107 unique tokens.\n",
      "Found 2246 unique tokens.\n",
      "Number of words\n",
      "5108\n",
      "300\n"
     ]
    }
   ],
   "source": [
    "print('Preparing embedding matrix.')\n",
    "\n",
    "MAX_NUM_WORDS = 20000\n",
    "MAX_SEQUENCE_LENGTH = 1000\n",
    "EMBEDDING_DIM = 300\n",
    "\n",
    "# prepare embedding matrix\n",
    "# TODO determine word_index: is the number of unique tokens\n",
    "\n",
    "from keras.preprocessing.text import Tokenizer\n",
    "\n",
    "tokenizer = Tokenizer(num_words=MAX_NUM_WORDS)\n",
    "tokenizer.fit_on_texts(pairs[:,0])\n",
    "sequences = tokenizer.texts_to_sequences(pairs[:,0])\n",
    "\n",
    "word_index = tokenizer.word_index\n",
    "print('Found %s unique tokens.' % len(word_index))\n",
    "\n",
    "tokenizer2 = Tokenizer(num_words=MAX_NUM_WORDS)\n",
    "tokenizer2.fit_on_texts(pairs[:,1])\n",
    "sequences2 = tokenizer2.texts_to_sequences(pairs[:,1])\n",
    "\n",
    "word_index2 = tokenizer2.word_index\n",
    "print('Found %s unique tokens.' % len(word_index2))\n",
    "\n",
    "num_words = min(MAX_NUM_WORDS, len(word_index) + 1)\n",
    "print('Number of words')\n",
    "print(num_words)\n",
    "embedding_matrix = np.zeros((num_words, EMBEDDING_DIM))\n",
    "for word, i in word_index.items():\n",
    "    if i >= MAX_NUM_WORDS:\n",
    "        continue\n",
    "    embedding_vector = embeddings_index.get(word)\n",
    "    if embedding_vector is not None:\n",
    "        # words not found in embedding index will be all-zeros.\n",
    "        embedding_matrix[i] = embedding_vector\n",
    "\n",
    "# load pre-trained word embeddings into an Embedding layer\n",
    "# note that we set trainable = False so as to keep the embeddings fixed\n",
    "embedding_layer = Embedding(num_words,\n",
    "                            EMBEDDING_DIM,\n",
    "                            embeddings_initializer=Constant(embedding_matrix),\n",
    "                            input_length=MAX_SEQUENCE_LENGTH,\n",
    "                            trainable=False)\n",
    "\n",
    "# print embedding shape\n",
    "print(embedding_layer.output_dim)\n",
    "\n",
    "# TODO classification: a sequential model of two embeddings plus a merge/softmax with 5 categories. Maybe use FeatureUnion?\n",
    "# TODO embedding + as inputs to CNN"
   ]
  },
  {
   "cell_type": "code",
   "execution_count": null,
   "metadata": {},
   "outputs": [],
   "source": []
  },
  {
   "cell_type": "markdown",
   "metadata": {},
   "source": [
    "### Feed-forward Neural Network"
   ]
  },
  {
   "cell_type": "code",
   "execution_count": 18,
   "metadata": {},
   "outputs": [],
   "source": [
    "#TODO add softmax layer in the end with 5 categories\n",
    "def create_base_network(input_shape):\n",
    "    input = Input(shape=input_shape)\n",
    "    x = Flatten()(input)\n",
    "    x = Dense(128, activation='relu')(x)\n",
    "    x = Dropout(0.1)(x)\n",
    "    x = Dense(128, activation='relu')(x)\n",
    "    x = Dropout(0.1)(x)\n",
    "    x = Dense(128, activation='relu')(x)\n",
    "    return Model(input, x)\n",
    "\n"
   ]
  },
  {
   "cell_type": "markdown",
   "metadata": {},
   "source": [
    "### Siamese CNN"
   ]
  },
  {
   "cell_type": "code",
   "execution_count": 19,
   "metadata": {},
   "outputs": [],
   "source": [
    "#TODO maximum length from embedding layer\n",
    "def create_cnn_network(embedding_length):\n",
    "    model = Sequential()\n",
    "    model.add(Conv1D(filters=64, kernel_size=3, activation='relu', input_shape=(embedding_length, 1)))\n",
    "    model.add(Conv1D(filters=64, kernel_size=3, activation='relu'))\n",
    "    model.add(Dropout(0.5))\n",
    "    model.add(MaxPooling1D(pool_size=2))\n",
    "    model.add(Flatten())\n",
    "    model.add(Dense(128, activation='relu'))\n",
    "    return model\n",
    "\n",
    "def contrastive_loss(y_true, y_pred):\n",
    "    '''Contrastive loss from Hadsell-et-al.'06\n",
    "    http://yann.lecun.com/exdb/publis/pdf/hadsell-chopra-lecun-06.pdf\n",
    "    '''\n",
    "    margin = 1\n",
    "    square_pred = K.square(y_pred)\n",
    "    margin_square = K.square(K.maximum(margin - y_pred, 0))\n",
    "    return K.mean(y_true * square_pred + (1 - y_true) * margin_square)\n",
    "\n",
    "\n"
   ]
  },
  {
   "cell_type": "markdown",
   "metadata": {},
   "source": [
    "This is the main module of the project. <br>\n",
    "The model can be chosen from the following:\n",
    "\n",
    "    - Bag-of-Words\n",
    "    - Tf-idf Vectorizer\n",
    "    - Doc2Vec/GloVe\n",
    "    - Feed-forward Neural Network\n",
    "    - Convolutional Neural Network\n",
    "    - Siamese Convolutional Neural Network\n",
    "    \n",
    "<br>\n",
    "TODO create the models in separate files."
   ]
  },
  {
   "cell_type": "code",
   "execution_count": 20,
   "metadata": {},
   "outputs": [],
   "source": [
    "def __init__():\n",
    "    print('init')\n",
    "\n",
    "# General machine learning functions: fit the model and compute F-score.\n",
    "\n"
   ]
  }
 ],
 "metadata": {
  "kernelspec": {
   "display_name": "Python 3",
   "language": "python",
   "name": "python3"
  },
  "language_info": {
   "codemirror_mode": {
    "name": "ipython",
    "version": 3
   },
   "file_extension": ".py",
   "mimetype": "text/x-python",
   "name": "python",
   "nbconvert_exporter": "python",
   "pygments_lexer": "ipython3",
   "version": "3.7.4"
  }
 },
 "nbformat": 4,
 "nbformat_minor": 2
}
